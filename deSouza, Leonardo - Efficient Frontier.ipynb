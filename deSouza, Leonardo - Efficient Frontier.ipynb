{
 "cells": [
  {
   "cell_type": "markdown",
   "id": "a3e7ca33",
   "metadata": {},
   "source": [
    "<br>\n",
    "<h1> The Efficient Frontier </h1>\n",
    "<hr>\n",
    "<h3> Portfolio Risk and Return </h3>\n",
    "<br>\n",
    "Assume that we have two assets in our portfolio\n",
    "Let's also say that we have a certain weight ($w_{a}$) for the risky asset $A$, and weight ($w_{b}$) for the risk-free asset $B$. The sum of weights should be equal to one, so that: $ w_{a} + w_{b} = 1.00 $\n",
    "<br>\n",
    "<br>\n",
    "<b> Returns </b>\n",
    "<br>\n",
    "Thus, the expected return for the portfolio ($p$) should be equal to:\n",
    "<br>\n",
    "<br>\n",
    "\\begin{align}\n",
    "\\mathbb{E}(p) & = w_{a}\\mathbb{E}(A) + w_{b}\\mathbb{E}(B)\\\\\n",
    "\\mathbb{E}(p) & = w_{a}\\mathbb{E}(A) + (1 - w_{a})\\mathbb{E}(B)\\\\\n",
    "\\end{align}\n",
    "<br>\n",
    "We could then infer that our expected return for the portfolio is equal to the sum of an Asset's weight times their respective expected returns:\n",
    "<br>\n",
    "<br>\n",
    "\\begin{align}\n",
    "\\mathbb{E}(p) & = \\sum_{i=1}^{k}w_{i}\\mathbb{E}(r_{i})\n",
    "\\end{align}\n",
    "<br>\n",
    "<br>\n",
    "<b> Volatility </b>\n",
    "<br>\n",
    "Similarly to returns, volatility is also additive. Thus:\n",
    "<br>\n",
    "<br>\n",
    "\\begin{align}\n",
    "Var(X) & = \\sigma^{2}(X)\\equiv \\sigma_{X}^{2} \\equiv \\mathbb{E}[(X-\\mathbb{E}[X])^2] \\\\\n",
    "\\therefore Var(X) & = \\mathbb{E}[(X-\\mathbb{E}[X])^2] = \\mathbb{E}[X^{2}] - \\mathbb{E}[X]^2\\\\ \\\\\n",
    "& \\text{Remember that }Var(X) = Cov(X,X).\\text{ Substituting } X \\text{ for} A + B:  \\\\ \\\\\n",
    "Var(A + B) & = Cov(A+B, A+B) \\\\\n",
    "& = \\mathbb{E}[(A - \\mathbb{E}[A])(B - \\mathbb{E}[B])] \\\\\n",
    "& = \\mathbb{E}[(A+B)^{2}] - \\mathbb{E}[A + B]\\mathbb{E}[A+B] \\\\\n",
    "& = \\mathbb{E}[A^{2}] - \\mathbb{E}[A]^{2} + \\mathbb{E}[B^{2}] - \\mathbb{E}[B]^{2} + 2(\\mathbb{E}[AB] - \\mathbb{E}[A]\\mathbb{E}[B])\\\\ \\\\\n",
    "\\therefore Var(A + B) & = Var(A) + Var(B) + 2Cov(A, B)\n",
    "\\end{align}\n",
    "<br>\n",
    "<br>\n",
    "Thus, the volatility should be:\n",
    "<br>\n",
    "\\begin{align}\n",
    "\\sigma_{p} & = \\sqrt{Var(A) + Var(B) + 2Cov(A, B)}\\\\\n",
    "\\sigma_{p} & = \\sqrt{w_{a}^{2}\\sigma_{a}^{2} + w_{b}^{2}\\sigma_{b}^{2} + 2w_{a}w_{b}\\rho_{ab}\\sigma_{a}\\sigma_{b}}\n",
    "\\end{align}\n",
    "<br>\n",
    "<br>\n",
    "We could also consider the following matrices:\n",
    "<br>\n",
    "<br>\n",
    "\\begin{align}\n",
    "w & = \n",
    "\\begin{bmatrix}\n",
    "w_{a} & w_{b}\n",
    "\\end{bmatrix}\\\\\n",
    "Cov(a, b) & = \n",
    "\\begin{bmatrix}\n",
    "\\sigma_{a}^{2} & \\sigma_{ab}\\\\\n",
    "\\sigma_{ba} & \\sigma_{b}^{2}\n",
    "\\end{bmatrix}\n",
    "\\end{align}\n",
    "<br>\n",
    "Multiplying the transposed weight matrix ($w'$) and the covariance ($Cov(a,b)$) matrix, we have:\n",
    "<br>\n",
    "<br>\n",
    "\\begin{align}\n",
    "\\begin{bmatrix}\n",
    "\\sigma_{a}^{2} & \\sigma_{ab}\\\\\n",
    "\\sigma_{ba} & \\sigma_{b}^{2}\n",
    "\\end{bmatrix}\n",
    "\\begin{bmatrix}\n",
    "w_{a}\\\\\n",
    "w_{b}\n",
    "\\end{bmatrix}\n",
    "= \\begin{bmatrix}\n",
    "\\sigma_{a}^{2}w_{a} + \\sigma_{ab}w_{b}\\\\\n",
    "\\sigma_{ba}w_{a} + \\sigma_{b}^{2}w_{b}\n",
    "\\end{bmatrix}\n",
    "\\end{align}\n",
    "<br>\n",
    "Let's now multiply the weight ($w$) matrix by our previous results:\n",
    "<br>\n",
    "<br>\n",
    "\\begin{align}\n",
    "\\begin{bmatrix}\n",
    "w_{a} & w_{b}\n",
    "\\end{bmatrix}\n",
    "\\begin{bmatrix}\n",
    "\\sigma_{a}^{2}w_{a} + \\sigma_{ab}w_{b}\\\\\n",
    "\\sigma_{ba}w_{a} + \\sigma_{b}^{2}w_{b}\n",
    "\\end{bmatrix} & =\n",
    "\\begin{bmatrix}\n",
    "w_{a}(\\sigma_{a}^{2}w_{a} + \\sigma_{ab}w_{b}) + w_{b}(\\sigma_{ba}w_{a} + \\sigma_{b}^{2}w_{b})\n",
    "\\end{bmatrix}\\\\\n",
    "& = [\\sigma_{a}^{2}w_{a}^2 + \\sigma_{ab}w_{b}w_{a} + \\sigma_{ba}w_{a}w_{b} + \\sigma_{b}^{2}w_{b}^2]\\\\\n",
    "& = w_{a}^{2}\\sigma_{a}^{2} + w_{b}^{2}\\sigma_{b}^{2} + 2w_{a}w_{b}\\sigma_{ab}\\\\\n",
    "\\end{align}\n",
    "<br>\n",
    "This is the exact same solution we had previously. Thus, we could refer to the portfolio's volatility as:\n",
    "<br>\n",
    "<br>\n",
    "\\begin{align}\n",
    "\\sigma_{p}^{2} & = w\\Sigma w'\\\\\n",
    "\\therefore \\sigma_{p} & = \\sqrt{w\\Sigma w'}\n",
    "\\end{align}\n",
    "<br>\n",
    "<br>\n",
    "Now, let's see how we could find our portfolio return and volatility in a practical example:\n",
    "<hr>\n",
    "<h3> Two Asset Portfolio </h3>\n",
    "<br>\n",
    "Please consider the following portfolio:\n",
    "<br>\n",
    "● <i>SPDR S&P 500 ETF Trust (SPY)</i>\n",
    "<br>\n",
    "● <i>iShares 20+ Year Treasury Bond ETF (TLT)</i>\n",
    "<br>"
   ]
  },
  {
   "cell_type": "code",
   "execution_count": 5,
   "id": "6d4d31f5",
   "metadata": {},
   "outputs": [],
   "source": [
    "import pandas as pd\n",
    "import datetime as dt\n",
    "from dateutil.relativedelta import relativedelta\n",
    "import yfinance as yf\n",
    "import numpy as np\n",
    "from scipy.optimize import minimize\n",
    "import pandas_datareader.data as web\n",
    "import matplotlib.pyplot as plt\n",
    "import warnings\n",
    "import waterfall_chart as waterfall\n",
    "\n",
    "warnings.filterwarnings('ignore')\n",
    "plt.rcParams['figure.figsize'] = [10, 5]"
   ]
  },
  {
   "cell_type": "code",
   "execution_count": 23,
   "id": "68dee927",
   "metadata": {},
   "outputs": [
    {
     "name": "stdout",
     "output_type": "stream",
     "text": [
      "[*********************100%***********************]  2 of 2 completed\n"
     ]
    }
   ],
   "source": [
    "# Data interval (monthly)\n",
    "interval = '1mo'\n",
    "# Date of calculation\n",
    "end = dt.datetime.today()\n",
    "# start of calculation period (relative to end - \"today:)\n",
    "start = end - relativedelta(years=15)\n",
    "# Tickers from Yahoo! Finance\n",
    "Tickers = ['SPY', 'TLT']\n",
    "# Download data from Yahoo! (Adj Close to account for dividends and other corporate actions)\n",
    "df = yf.download(Tickers, interval=interval, start=start)['Adj Close']\n",
    "# Data into pandas dataframe\n",
    "df = pd.DataFrame(df)\n",
    "# Drop NaN (for non trading days)\n",
    "df = df.dropna()\n",
    "# Create a new DataFrame to calculate returns in continuous time\n",
    "df1 = np.log(df) - np.log(df.shift(1))\n",
    "# Drop first row (NaN)\n",
    "df1 = df1[1::]"
   ]
  },
  {
   "cell_type": "markdown",
   "id": "1b2b8426",
   "metadata": {},
   "source": [
    "Let's now assume that we have an equally weighted portfolio. Thus $w_{a}$ = $w_{b}$ = $0.5$."
   ]
  },
  {
   "cell_type": "code",
   "execution_count": 24,
   "id": "177379e1",
   "metadata": {},
   "outputs": [
    {
     "data": {
      "text/plain": [
       "[0.5, 0.5]"
      ]
     },
     "execution_count": 24,
     "metadata": {},
     "output_type": "execute_result"
    }
   ],
   "source": [
    "# Create array of equally weighted portfolio:\n",
    "w = pd.Series([(1/(len(df.columns)))for x in range(len(df.columns))])\n",
    "w = [weight for weight in w]\n",
    "w"
   ]
  },
  {
   "cell_type": "markdown",
   "id": "013b8268",
   "metadata": {},
   "source": [
    "The portfolio returns should look like this:"
   ]
  },
  {
   "cell_type": "code",
   "execution_count": 25,
   "id": "6d894d1f",
   "metadata": {},
   "outputs": [
    {
     "data": {
      "text/plain": [
       "Date\n",
       "2008-01-01   -0.014164\n",
       "2008-02-01   -0.017108\n",
       "2008-03-01    0.003506\n",
       "2008-04-01    0.012890\n",
       "2008-05-01   -0.005809\n",
       "                ...   \n",
       "2022-08-01   -0.044048\n",
       "2022-09-01   -0.093669\n",
       "2022-10-01    0.010236\n",
       "2022-11-01    0.055770\n",
       "2022-11-25    0.001229\n",
       "Length: 180, dtype: float64"
      ]
     },
     "execution_count": 25,
     "metadata": {},
     "output_type": "execute_result"
    }
   ],
   "source": [
    "# Returns\n",
    "Returns = np.sum(df1*w, axis=1)\n",
    "Returns"
   ]
  },
  {
   "cell_type": "markdown",
   "id": "f1fa7a93",
   "metadata": {},
   "source": [
    "Now, we can calculate the portfolio standard deviation ($\\sigma$):"
   ]
  },
  {
   "cell_type": "code",
   "execution_count": 26,
   "id": "0fb13046",
   "metadata": {},
   "outputs": [
    {
     "name": "stdout",
     "output_type": "stream",
     "text": [
      "Standard Deviation (Monthly): 0.0284\n",
      "Standard Deviation (Annualized): 0.0983\n"
     ]
    }
   ],
   "source": [
    "# Standard Deviation of monthly returns:\n",
    "std = Returns.std()\n",
    "std_an = std*np.sqrt(12)\n",
    "print(f\"Standard Deviation (Monthly): {round(std, 4)}\")\n",
    "print(f\"Standard Deviation (Annualized): {round(std_an, 4)}\")"
   ]
  },
  {
   "cell_type": "markdown",
   "id": "2384a397",
   "metadata": {},
   "source": [
    "Let's see if we can have the same results with the matrix multiplication:"
   ]
  },
  {
   "cell_type": "code",
   "execution_count": 27,
   "id": "7cf0bbb4",
   "metadata": {},
   "outputs": [
    {
     "name": "stdout",
     "output_type": "stream",
     "text": [
      "Standard Deviation (Monthly): 0.0284\n",
      "Standard Deviation (Annualized): 0.0983\n"
     ]
    }
   ],
   "source": [
    "# Weights\n",
    "w = np.array(w)\n",
    "# Covariance\n",
    "cov = df1.cov()\n",
    "# Variance with Matrix\n",
    "var_mm = np.dot(w, np.dot(cov,w.T))\n",
    "# Standard Deviation:\n",
    "std_mm = np.sqrt(var_mm)\n",
    "# The annualized volatility:\n",
    "std_mma = std_mm*np.sqrt(12)\n",
    "print(f\"Standard Deviation (Monthly): {round(std_mm, 4)}\")\n",
    "print(f\"Standard Deviation (Annualized): {round(std_mma, 4)}\")"
   ]
  },
  {
   "cell_type": "markdown",
   "id": "ab229cb7",
   "metadata": {},
   "source": [
    "- We do indeed have the same results"
   ]
  },
  {
   "cell_type": "markdown",
   "id": "7a877f5e",
   "metadata": {},
   "source": [
    "Now, let's plot our efficient frontier.\n",
    "\n",
    "- To do that, we will have a \"simulation\". We will let the weight vary from 0 to 1 for each asset (unless we have a long-short, meaning that weights can be less than zero, we will maintain weights ranging from 0 to 1. If you would like to look at a long-short portfolio, consider the range [-1, 2]).\n",
    "- Let's also assume that our expected return is equal to the geometric average of returns (you could also assume the expected return as the average*12, or even use CAPM)."
   ]
  },
  {
   "cell_type": "code",
   "execution_count": 28,
   "id": "17dcb105",
   "metadata": {},
   "outputs": [
    {
     "name": "stdout",
     "output_type": "stream",
     "text": [
      "SPY    0.076\n",
      "TLT    0.025\n",
      "dtype: float64\n"
     ]
    },
    {
     "data": {
      "text/html": [
       "<div>\n",
       "<style scoped>\n",
       "    .dataframe tbody tr th:only-of-type {\n",
       "        vertical-align: middle;\n",
       "    }\n",
       "\n",
       "    .dataframe tbody tr th {\n",
       "        vertical-align: top;\n",
       "    }\n",
       "\n",
       "    .dataframe thead th {\n",
       "        text-align: right;\n",
       "    }\n",
       "</style>\n",
       "<table border=\"1\" class=\"dataframe\">\n",
       "  <thead>\n",
       "    <tr style=\"text-align: right;\">\n",
       "      <th></th>\n",
       "      <th>SPY</th>\n",
       "      <th>TLT</th>\n",
       "    </tr>\n",
       "  </thead>\n",
       "  <tbody>\n",
       "    <tr>\n",
       "      <th>SPY</th>\n",
       "      <td>0.002278</td>\n",
       "      <td>-0.000369</td>\n",
       "    </tr>\n",
       "    <tr>\n",
       "      <th>TLT</th>\n",
       "      <td>-0.000369</td>\n",
       "      <td>0.001679</td>\n",
       "    </tr>\n",
       "  </tbody>\n",
       "</table>\n",
       "</div>"
      ],
      "text/plain": [
       "          SPY       TLT\n",
       "SPY  0.002278 -0.000369\n",
       "TLT -0.000369  0.001679"
      ]
     },
     "execution_count": 28,
     "metadata": {},
     "output_type": "execute_result"
    }
   ],
   "source": [
    "# 1. Expected returns\n",
    "Er = ((np.prod(1+df1))**(12/((df1.count()))))-1\n",
    "# Covariance Matrix\n",
    "cov = cov\n",
    "print(round(Er,3))\n",
    "cov"
   ]
  },
  {
   "cell_type": "markdown",
   "id": "dee18aaa",
   "metadata": {},
   "source": [
    "Let's now use the desired range for our weights:"
   ]
  },
  {
   "cell_type": "code",
   "execution_count": 29,
   "id": "218a85f6",
   "metadata": {},
   "outputs": [
    {
     "data": {
      "image/png": "[encoded data removed]",
      "text/plain": [
       "<Figure size 720x360 with 1 Axes>"
      ]
     },
     "metadata": {
      "needs_background": "light"
     },
     "output_type": "display_data"
    }
   ],
   "source": [
    "# We can use linspace to make the weights vary from 0 to 1:\n",
    "w = np.linspace(0,1,100)\n",
    "# Let's create an empty dataframe to append our calculations:\n",
    "Port_Rets = []\n",
    "Stdev = []\n",
    "# for loop:\n",
    "for W in w:\n",
    "    # Returns\n",
    "    Weight = [W, 1-W]\n",
    "    Rets = Er*Weight\n",
    "    Rets = Rets.sum()\n",
    "    Port_Rets.append(Rets)\n",
    "    # Standard Deviation\n",
    "    Weight = np.array(Weight)\n",
    "    Std = np.sqrt((np.dot(Weight, np.dot(cov,Weight.T))))*np.sqrt(12)\n",
    "    Stdev.append(Std)\n",
    "\n",
    "plt.plot(Stdev, Port_Rets)\n",
    "plt.title('Efficient Frontier')\n",
    "plt.ylabel('Returns')\n",
    "plt.xlabel('Volatility')\n",
    "plt.show()"
   ]
  },
  {
   "cell_type": "markdown",
   "id": "5704d88e",
   "metadata": {},
   "source": [
    "How do we find the mean-variance portfolio?\n",
    "\n",
    "We could simply use the formula:\n",
    "\n",
    "<br>\n",
    "\\begin{align}\n",
    "w_{a} & = \\frac{\\sigma_{b}^{2} - \\rho_{a,b} \\sigma_{a}\\sigma_{b}}{\\sigma_{a}^{2} + \\sigma_{b}^{2} - 2 \\rho_{a,b} \\sigma_{a}\\sigma_{b}}\\\\\n",
    "w_{b} & = 1 - w_{a}\\\\\n",
    "\\end{align}\n",
    "<br>\n",
    "<br>\n",
    "Alternatively, we could use a function to solve for this. Our goal is to minimize the standard deviation of the portfolio."
   ]
  },
  {
   "cell_type": "code",
   "execution_count": 30,
   "id": "9cf53af4",
   "metadata": {},
   "outputs": [
    {
     "name": "stdout",
     "output_type": "stream",
     "text": [
      "Sum of Weight: 100.0%\n"
     ]
    },
    {
     "data": {
      "image/png": "[encoded data removed]",
      "text/plain": [
       "<Figure size 720x360 with 1 Axes>"
      ]
     },
     "metadata": {
      "needs_background": "light"
     },
     "output_type": "display_data"
    },
    {
     "name": "stdout",
     "output_type": "stream",
     "text": [
      "Expected Return: 0.047%\n",
      "Expected Volatility: 0.097%\n",
      "SPY Weight: 43.523%\n",
      "TLT Weight: 56.477%\n"
     ]
    }
   ],
   "source": [
    "# Let's start with a function that gets our standard deviation\n",
    "def minVol(Weights):\n",
    "    W_opt = np.array(Weights)\n",
    "    Stdev_opt = np.sqrt(np.dot(W_opt, np.dot(cov, W_opt.T))) * np.sqrt(12)\n",
    "    return Stdev_opt\n",
    "\n",
    "# Now a function ensuring that the weights sum up to 1\n",
    "def SumW(Weights):\n",
    "    return np.sum(Weights)-1\n",
    "\n",
    "# This will be our first guess for our weights\n",
    "# Let's guess that a 50-50 portfolio returns the minimum variance portfolio\n",
    "w0 = pd.Series([1/len(df1.columns) for x in range(len(df1.columns))])\n",
    "# This is our bounds, again it can range from 0 to 1 (or -1 to 2 for long-short)\n",
    "bounds = pd.Series([(0,1) for x in range(len(df1.columns))])\n",
    "\n",
    "# Our constraint is that the sum of weights should be equal to 1\n",
    "constraints = ({'type':'eq', 'fun': SumW})\n",
    "# Now let's minimize our standard deviation, using our \"guess\" that the weights are equal, and the bound 0,1\n",
    "Var1 = minimize(minVol, w0, method='SLSQP', bounds=bounds,\n",
    "                       constraints=constraints)\n",
    "\n",
    "# Our weights should be:\n",
    "W = Var1['x']\n",
    "# Let's print the sum of weights to make sure it is equal to 1:\n",
    "print(f\"Sum of Weight: {round(np.sum(W),2)*100}%\")\n",
    "# Our returns would them be equal to:\n",
    "Ret_opt = np.sum(Er * W)\n",
    "# And the standard deviation equal to:\n",
    "Std_opt = np.sqrt(np.dot(W, np.dot(cov, W.T))) * np.sqrt(12)\n",
    "\n",
    "plt.plot(Stdev, Port_Rets, Std_opt, Ret_opt, \"o\")\n",
    "plt.title('Efficient Frontier and Minimum Variance Portfolio')\n",
    "plt.ylabel('Returns')\n",
    "plt.xlabel('Volatility')\n",
    "plt.show()\n",
    "print(f\"Expected Return: {round(Ret_opt,3)}%\")\n",
    "print(f\"Expected Volatility: {round(Std_opt,3)}%\")\n",
    "print(f\"SPY Weight: {round(W[0]*100,3)}%\")\n",
    "print(f\"TLT Weight: {round(W[1]*100,3)}%\")"
   ]
  },
  {
   "cell_type": "markdown",
   "id": "28e8c384",
   "metadata": {},
   "source": [
    "- Thus, our minimum variance portfolio has a 56.60% weight in TLT and a 43.40% weight in SPY."
   ]
  },
  {
   "cell_type": "markdown",
   "id": "ce060d31",
   "metadata": {},
   "source": [
    "Let's now find the optimal portfolio. Let's set our objective to be a point where we maximize sharpe. \n",
    "\n",
    "Sharpe being:\n",
    "<br>\n",
    "<br>\n",
    "\\begin{align}\n",
    "Sharpe = \\frac{\\mathbb{E}(r) - r_{f}}{\\sigma_{p}}\n",
    "\\end{align}\n",
    "<br>\n",
    "<br>\n",
    "Consider the U.S. Treasury Securities at 1-Yr Constant Maturity as the risk-free rate."
   ]
  },
  {
   "cell_type": "code",
   "execution_count": 31,
   "id": "c0ac8e9b",
   "metadata": {},
   "outputs": [
    {
     "name": "stdout",
     "output_type": "stream",
     "text": [
      "Rates: 4.75%\n"
     ]
    }
   ],
   "source": [
    "# U.S. Treasury Securities at 1-Yr Constant Maturity\n",
    "Rates = 'DGS1' #FRED\n",
    "# Download data using pandas DataReader ('fred' for FRED data)\n",
    "Rates = web.DataReader(Rates, 'fred', start, end)\n",
    "Rates = Rates.dropna()\n",
    "# .values[-1] will return the last value for the set\n",
    "Rates = Rates['DGS1'].values[-1]/100 # as %\n",
    "r = Rates\n",
    "print(f'Rates: {round(r*100,4)}%')"
   ]
  },
  {
   "cell_type": "code",
   "execution_count": 32,
   "id": "21a7a740",
   "metadata": {},
   "outputs": [
    {
     "name": "stdout",
     "output_type": "stream",
     "text": [
      "Sum of Weight: 100.0%\n"
     ]
    },
    {
     "data": {
      "image/png": "[encoded data removed]",
      "text/plain": [
       "<Figure size 720x360 with 1 Axes>"
      ]
     },
     "metadata": {
      "needs_background": "light"
     },
     "output_type": "display_data"
    },
    {
     "name": "stdout",
     "output_type": "stream",
     "text": [
      "Expected Return: 7.582%\n",
      "Expected Volatility: 16.534%\n",
      "SPY Weight: 100.0%\n",
      "TLT Weight: 0.0%\n"
     ]
    }
   ],
   "source": [
    "def maxSharpe(Weights):\n",
    "    W_opt = np.array(Weights)\n",
    "    Stdev_opt = np.sqrt(np.dot(W_opt, np.dot(cov, W_opt.T))) * np.sqrt(12)\n",
    "    Rets = np.sum(Er * W_opt)\n",
    "    Sharpe = (Rets - r)/Stdev_opt\n",
    "    # To maximize sharpe, we are using a \"minimize\" goal, so\n",
    "    # we need to minimize the \"-sharpe\"\n",
    "    max_sharpe = Sharpe*(-1)\n",
    "    return max_sharpe\n",
    "\n",
    "# Now a function ensuring that the weights sum up to 1\n",
    "def SumW(Weights):\n",
    "    return np.sum(Weights)-1\n",
    "\n",
    "# This will be our first guess for our weights\n",
    "# Let's guess that a 50-50 portfolio returns the optimal portfolio\n",
    "w0 = pd.Series([1/len(df1.columns) for x in range(len(df1.columns))])\n",
    "# This is our bounds, again it can range from 0 to 1 (or -1 to 2 for long-short)\n",
    "bounds = pd.Series([(0,1) for x in range(len(df1.columns))])\n",
    "\n",
    "# Our constraint is that the sum of weights should be equal to 1\n",
    "constraints = ({'type':'eq', 'fun': SumW})\n",
    "# Now let's minimize our standard deviation, using our \"guess\" that the weights are equal, and the bound 0,1\n",
    "M_Sharpe = minimize(maxSharpe, w0, method='SLSQP', bounds=bounds,\n",
    "                       constraints=constraints)\n",
    "\n",
    "# Our weights should be:\n",
    "S = M_Sharpe['x']\n",
    "# Let's print the sum of weights to make sure it is equal to 1:\n",
    "print(f\"Sum of Weight: {round(np.sum(W),2)*100}%\")\n",
    "# Our returns would them be equal to:\n",
    "Ret_s = np.sum(Er * S)\n",
    "# And the standard deviation equal to:\n",
    "Std_s = np.sqrt(np.dot(S, np.dot(cov, S.T))) * np.sqrt(12)\n",
    "\n",
    "plt.plot(Stdev, Port_Rets, Std_opt, Ret_opt, \"o\", Std_s, Ret_s, \"o\")\n",
    "plt.title('Efficient Frontier, Minimum Variance Portfolio, and Optimal Portfolio')\n",
    "plt.ylabel('Returns')\n",
    "plt.xlabel('Volatility')\n",
    "plt.show()\n",
    "print(f\"Expected Return: {round(Ret_s*100,3)}%\")\n",
    "print(f\"Expected Volatility: {round(Std_s*100,3)}%\")\n",
    "print(f\"SPY Weight: {round(S[0]*100,3)}%\")\n",
    "print(f\"TLT Weight: {round(S[1]*100,3)}%\")"
   ]
  },
  {
   "cell_type": "markdown",
   "id": "de4fd49b",
   "metadata": {},
   "source": [
    "- Thus, the tangent portfolio is 100% weighted in SPY, the \"market portfolio\".\n",
    "\n",
    "To find the Capital Allocation Line (CAL), we consider the y-intercept to be the risk-free rate ($r_{f}$), and the slope to be the sharpe ratio. Therefore, the CAL is:\n",
    "<br>\n",
    "<br>\n",
    "\\begin{align}\n",
    "CAL = r_{f} + \\frac{\\mathbb{E}(r_{m}) - r_{f}}{\\sigma_{m}}\\sigma_{p}\n",
    "\\end{align}\n",
    "<br>\n"
   ]
  },
  {
   "cell_type": "code",
   "execution_count": 33,
   "id": "849ac2b5",
   "metadata": {},
   "outputs": [
    {
     "data": {
      "image/png": "[encoded data removed]",
      "text/plain": [
       "<Figure size 720x360 with 1 Axes>"
      ]
     },
     "metadata": {
      "needs_background": "light"
     },
     "output_type": "display_data"
    }
   ],
   "source": [
    "# Consider the max and min values for the standard deviation to be:\n",
    "max_std = max(Stdev)\n",
    "min_std = min(Stdev)\n",
    "std_range = np.linspace(min_std, max_std, 100)\n",
    "\n",
    "for stdev in std_range:\n",
    "    Cal = r + ((Ret_s-r)/Std_s)*std_range\n",
    "\n",
    "plt.plot(Stdev, Port_Rets, Std_opt, Ret_opt, \"o\", Std_s, Ret_s, \"o\", std_range, Cal)\n",
    "plt.title('Efficient Frontier, Minimum Variance Portfolio, Optimal Portfolio, and CAL')\n",
    "plt.ylabel('Returns')\n",
    "plt.xlabel('Volatility')\n",
    "plt.show()"
   ]
  },
  {
   "cell_type": "markdown",
   "id": "87448a94",
   "metadata": {},
   "source": [
    "Let's now look at how could we use this to plot more than two assets.\n",
    "<hr>\n",
    "<h3> Multi Asset Portfolio </h3>\n",
    "<br>\n",
    "Please consider the following portfolio:\n",
    "<br>\n",
    "● <i>The Boeing Company (BA)</i>\n",
    "<br>\n",
    "● <i>Bank of America Corporation (BAC)</i>\n",
    "<br>\n",
    "● <i>Apple Inc. (AAPL)</i>\n",
    "<br>\n",
    "● <i>CVS Health Corporation (CVS)</i>\n",
    "<br>\n",
    "● <i>Johnson & Johnson (JNJ)</i>\n",
    "<br>"
   ]
  },
  {
   "cell_type": "code",
   "execution_count": 34,
   "id": "cbe5acd6",
   "metadata": {},
   "outputs": [
    {
     "name": "stdout",
     "output_type": "stream",
     "text": [
      "[*********************100%***********************]  5 of 5 completed\n"
     ]
    }
   ],
   "source": [
    "Tickers = ['BA', 'BAC', 'AAPL', 'CVS', 'JNJ']\n",
    "# Download data from Yahoo! (Adj Close to account for dividends and other corporate actions)\n",
    "df = yf.download(Tickers, interval=interval, start=start)['Adj Close']\n",
    "# Data into pandas dataframe\n",
    "df = pd.DataFrame(df)\n",
    "# Drop NaN (for non trading days)\n",
    "df = df.dropna()\n",
    "# Create a new DataFrame to calculate returns in continuous time\n",
    "df1 = np.log(df) - np.log(df.shift(1))\n",
    "# Drop first row (NaN)\n",
    "df1 = df1[1::]"
   ]
  },
  {
   "cell_type": "markdown",
   "id": "142e649d",
   "metadata": {},
   "source": [
    "We can go ahead to our expected returns and covariance:"
   ]
  },
  {
   "cell_type": "code",
   "execution_count": 35,
   "id": "19bdd91b",
   "metadata": {},
   "outputs": [
    {
     "name": "stdout",
     "output_type": "stream",
     "text": [
      "AAPL    0.173\n",
      "BA     -0.006\n",
      "BAC    -0.119\n",
      "CVS     0.057\n",
      "JNJ     0.085\n",
      "dtype: float64\n"
     ]
    },
    {
     "data": {
      "text/html": [
       "<div>\n",
       "<style scoped>\n",
       "    .dataframe tbody tr th:only-of-type {\n",
       "        vertical-align: middle;\n",
       "    }\n",
       "\n",
       "    .dataframe tbody tr th {\n",
       "        vertical-align: top;\n",
       "    }\n",
       "\n",
       "    .dataframe thead th {\n",
       "        text-align: right;\n",
       "    }\n",
       "</style>\n",
       "<table border=\"1\" class=\"dataframe\">\n",
       "  <thead>\n",
       "    <tr style=\"text-align: right;\">\n",
       "      <th></th>\n",
       "      <th>AAPL</th>\n",
       "      <th>BA</th>\n",
       "      <th>BAC</th>\n",
       "      <th>CVS</th>\n",
       "      <th>JNJ</th>\n",
       "    </tr>\n",
       "  </thead>\n",
       "  <tbody>\n",
       "    <tr>\n",
       "      <th>AAPL</th>\n",
       "      <td>0.008228</td>\n",
       "      <td>0.003095</td>\n",
       "      <td>0.003130</td>\n",
       "      <td>0.001552</td>\n",
       "      <td>0.001300</td>\n",
       "    </tr>\n",
       "    <tr>\n",
       "      <th>BA</th>\n",
       "      <td>0.003095</td>\n",
       "      <td>0.010799</td>\n",
       "      <td>0.006433</td>\n",
       "      <td>0.002374</td>\n",
       "      <td>0.001440</td>\n",
       "    </tr>\n",
       "    <tr>\n",
       "      <th>BAC</th>\n",
       "      <td>0.003130</td>\n",
       "      <td>0.006433</td>\n",
       "      <td>0.018450</td>\n",
       "      <td>0.002893</td>\n",
       "      <td>0.002432</td>\n",
       "    </tr>\n",
       "    <tr>\n",
       "      <th>CVS</th>\n",
       "      <td>0.001552</td>\n",
       "      <td>0.002374</td>\n",
       "      <td>0.002893</td>\n",
       "      <td>0.004352</td>\n",
       "      <td>0.001018</td>\n",
       "    </tr>\n",
       "    <tr>\n",
       "      <th>JNJ</th>\n",
       "      <td>0.001300</td>\n",
       "      <td>0.001440</td>\n",
       "      <td>0.002432</td>\n",
       "      <td>0.001018</td>\n",
       "      <td>0.002033</td>\n",
       "    </tr>\n",
       "  </tbody>\n",
       "</table>\n",
       "</div>"
      ],
      "text/plain": [
       "          AAPL        BA       BAC       CVS       JNJ\n",
       "AAPL  0.008228  0.003095  0.003130  0.001552  0.001300\n",
       "BA    0.003095  0.010799  0.006433  0.002374  0.001440\n",
       "BAC   0.003130  0.006433  0.018450  0.002893  0.002432\n",
       "CVS   0.001552  0.002374  0.002893  0.004352  0.001018\n",
       "JNJ   0.001300  0.001440  0.002432  0.001018  0.002033"
      ]
     },
     "execution_count": 35,
     "metadata": {},
     "output_type": "execute_result"
    }
   ],
   "source": [
    "# 1. Expected returns\n",
    "Er = ((np.prod(1+df1))**(12/((df1.count()))))-1\n",
    "# Covariance Matrix\n",
    "cov = df1.cov()\n",
    "print(round(Er,3))\n",
    "cov"
   ]
  },
  {
   "cell_type": "markdown",
   "id": "8c804828",
   "metadata": {},
   "source": [
    "This should return the minimum variance portfolio:"
   ]
  },
  {
   "cell_type": "code",
   "execution_count": 36,
   "id": "47ef10c7",
   "metadata": {},
   "outputs": [
    {
     "name": "stdout",
     "output_type": "stream",
     "text": [
      "Sum of Weight: 100.0%\n",
      "Expected Return: 8.413%\n",
      "Expected Volatility: 14.574%\n"
     ]
    },
    {
     "data": {
      "text/html": [
       "<div>\n",
       "<style scoped>\n",
       "    .dataframe tbody tr th:only-of-type {\n",
       "        vertical-align: middle;\n",
       "    }\n",
       "\n",
       "    .dataframe tbody tr th {\n",
       "        vertical-align: top;\n",
       "    }\n",
       "\n",
       "    .dataframe thead th {\n",
       "        text-align: right;\n",
       "    }\n",
       "</style>\n",
       "<table border=\"1\" class=\"dataframe\">\n",
       "  <thead>\n",
       "    <tr style=\"text-align: right;\">\n",
       "      <th></th>\n",
       "      <th>Weight</th>\n",
       "      <th>Security</th>\n",
       "    </tr>\n",
       "  </thead>\n",
       "  <tbody>\n",
       "    <tr>\n",
       "      <th>0</th>\n",
       "      <td>0.058994</td>\n",
       "      <td>AAPL</td>\n",
       "    </tr>\n",
       "    <tr>\n",
       "      <th>1</th>\n",
       "      <td>0.003428</td>\n",
       "      <td>BA</td>\n",
       "    </tr>\n",
       "    <tr>\n",
       "      <th>2</th>\n",
       "      <td>0.0</td>\n",
       "      <td>BAC</td>\n",
       "    </tr>\n",
       "    <tr>\n",
       "      <th>3</th>\n",
       "      <td>0.214369</td>\n",
       "      <td>CVS</td>\n",
       "    </tr>\n",
       "    <tr>\n",
       "      <th>4</th>\n",
       "      <td>0.72321</td>\n",
       "      <td>JNJ</td>\n",
       "    </tr>\n",
       "  </tbody>\n",
       "</table>\n",
       "</div>"
      ],
      "text/plain": [
       "     Weight Security\n",
       "0  0.058994     AAPL\n",
       "1  0.003428       BA\n",
       "2       0.0      BAC\n",
       "3  0.214369      CVS\n",
       "4   0.72321      JNJ"
      ]
     },
     "execution_count": 36,
     "metadata": {},
     "output_type": "execute_result"
    }
   ],
   "source": [
    "# Let's start with a function that gets our standard deviation\n",
    "def minVol(Weights):\n",
    "    W_opt = np.array(Weights)\n",
    "    Stdev_opt = np.sqrt(np.dot(W_opt, np.dot(cov, W_opt.T))) * np.sqrt(12)\n",
    "    return Stdev_opt\n",
    "\n",
    "# Now a function ensuring that the weights sum up to 1\n",
    "def SumW(Weights):\n",
    "    return np.sum(Weights)-1\n",
    "\n",
    "# This will be our first guess for our weights\n",
    "# Let's guess that a 50-50 portfolio returns the minimum variance portfolio\n",
    "w0 = pd.Series([1/len(df1.columns) for x in range(len(df1.columns))])\n",
    "# This is our bounds, again it can range from 0 to 1 (or -1 to 2 for long-short)\n",
    "bounds = pd.Series([(0,1) for x in range(len(df1.columns))])\n",
    "\n",
    "# Our constraint is that the sum of weights should be equal to 1\n",
    "constraints = ({'type':'eq', 'fun': SumW})\n",
    "# Now let's minimize our standard deviation, using our \"guess\" that the weights are equal, and the bound 0,1\n",
    "Var1 = minimize(minVol, w0, method='SLSQP', bounds=bounds,\n",
    "                       constraints=constraints)\n",
    "\n",
    "# Our weights should be:\n",
    "W = Var1['x']\n",
    "# Let's print the sum of weights to make sure it is equal to 1:\n",
    "print(f\"Sum of Weight: {round(np.sum(W)*100,2)}%\")\n",
    "# Our returns would them be equal to:\n",
    "Ret_opt = np.sum(Er * W)\n",
    "# And the standard deviation equal to:\n",
    "Std_opt = np.sqrt(np.dot(W, np.dot(cov, W.T))) * np.sqrt(12)\n",
    "\n",
    "print(f\"Expected Return: {round(Ret_opt*100,3)}%\")\n",
    "print(f\"Expected Volatility: {round(Std_opt*100,3)}%\")\n",
    "\n",
    "# Let's create a dataframe for our weights:\n",
    "N = df1.columns\n",
    "Weights = [W, N]\n",
    "Weights = pd.DataFrame(Weights).T\n",
    "Weights.columns = ['Weight', 'Security']\n",
    "Weights"
   ]
  },
  {
   "cell_type": "markdown",
   "id": "3c9d5683",
   "metadata": {},
   "source": [
    "Our tangent portfolio is:"
   ]
  },
  {
   "cell_type": "code",
   "execution_count": 37,
   "id": "615bcd01",
   "metadata": {},
   "outputs": [
    {
     "name": "stdout",
     "output_type": "stream",
     "text": [
      "Sum of Weight: 100.0%\n",
      "Expected Return: 13.628%\n",
      "Expected Volatility: 21.241%\n"
     ]
    },
    {
     "data": {
      "text/html": [
       "<div>\n",
       "<style scoped>\n",
       "    .dataframe tbody tr th:only-of-type {\n",
       "        vertical-align: middle;\n",
       "    }\n",
       "\n",
       "    .dataframe tbody tr th {\n",
       "        vertical-align: top;\n",
       "    }\n",
       "\n",
       "    .dataframe thead th {\n",
       "        text-align: right;\n",
       "    }\n",
       "</style>\n",
       "<table border=\"1\" class=\"dataframe\">\n",
       "  <thead>\n",
       "    <tr style=\"text-align: right;\">\n",
       "      <th></th>\n",
       "      <th>Weight</th>\n",
       "      <th>Security</th>\n",
       "    </tr>\n",
       "  </thead>\n",
       "  <tbody>\n",
       "    <tr>\n",
       "      <th>0</th>\n",
       "      <td>0.579953</td>\n",
       "      <td>AAPL</td>\n",
       "    </tr>\n",
       "    <tr>\n",
       "      <th>1</th>\n",
       "      <td>0.0</td>\n",
       "      <td>BA</td>\n",
       "    </tr>\n",
       "    <tr>\n",
       "      <th>2</th>\n",
       "      <td>0.0</td>\n",
       "      <td>BAC</td>\n",
       "    </tr>\n",
       "    <tr>\n",
       "      <th>3</th>\n",
       "      <td>0.0</td>\n",
       "      <td>CVS</td>\n",
       "    </tr>\n",
       "    <tr>\n",
       "      <th>4</th>\n",
       "      <td>0.420047</td>\n",
       "      <td>JNJ</td>\n",
       "    </tr>\n",
       "  </tbody>\n",
       "</table>\n",
       "</div>"
      ],
      "text/plain": [
       "     Weight Security\n",
       "0  0.579953     AAPL\n",
       "1       0.0       BA\n",
       "2       0.0      BAC\n",
       "3       0.0      CVS\n",
       "4  0.420047      JNJ"
      ]
     },
     "execution_count": 37,
     "metadata": {},
     "output_type": "execute_result"
    }
   ],
   "source": [
    "def maxSharpe(Weights):\n",
    "    W_opt = np.array(Weights)\n",
    "    Stdev_opt = np.sqrt(np.dot(W_opt, np.dot(cov, W_opt.T))) * np.sqrt(12)\n",
    "    Rets = np.sum(Er * W_opt)\n",
    "    Sharpe = (Rets - r)/Stdev_opt\n",
    "    # To maximize sharpe, we are using a \"minimize\" goal, so\n",
    "    # we need to minimize the \"-sharpe\"\n",
    "    max_sharpe = Sharpe*(-1)\n",
    "    return max_sharpe\n",
    "\n",
    "# Now a function ensuring that the weights sum up to 1\n",
    "def SumW(Weights):\n",
    "    return np.sum(Weights)-1\n",
    "\n",
    "# This will be our first guess for our weights\n",
    "# Let's guess that an equally weighted portfolio returns the optimal portfolio\n",
    "w0 = pd.Series([1/len(df1.columns) for x in range(len(df1.columns))])\n",
    "# This is our bounds, again it can range from 0 to 1 (or -1 to 2 for long-short)\n",
    "bounds = pd.Series([(0,1) for x in range(len(df1.columns))])\n",
    "\n",
    "# Our constraint is that the sum of weights should be equal to 1\n",
    "constraints = ({'type':'eq', 'fun': SumW})\n",
    "# Now let's minimize our standard deviation, using our \"guess\" that the weights are equal, and the bound 0,1\n",
    "M_Sharpe = minimize(maxSharpe, w0, method='SLSQP', bounds=bounds,\n",
    "                       constraints=constraints)\n",
    "\n",
    "# Our weights should be:\n",
    "S = M_Sharpe['x']\n",
    "# Let's print the sum of weights to make sure it is equal to 1:\n",
    "print(f\"Sum of Weight: {round(np.sum(W)*100,2)}%\")\n",
    "# Our returns would them be equal to:\n",
    "Ret_s = np.sum(Er * S)\n",
    "# And the standard deviation equal to:\n",
    "Std_s = np.sqrt(np.dot(S, np.dot(cov, S.T))) * np.sqrt(12)\n",
    "\n",
    "print(f\"Expected Return: {round(Ret_s*100,3)}%\")\n",
    "print(f\"Expected Volatility: {round(Std_s*100,3)}%\")\n",
    "\n",
    "# Let's create a dataframe for our weights:\n",
    "N = df1.columns\n",
    "Weights = [S, N]\n",
    "Weights = pd.DataFrame(Weights).T\n",
    "Weights.columns = ['Weight', 'Security']\n",
    "Weights"
   ]
  },
  {
   "cell_type": "markdown",
   "id": "1448e8c0",
   "metadata": {},
   "source": [
    "Plotting the Efficient Frontier:"
   ]
  },
  {
   "cell_type": "code",
   "execution_count": 38,
   "id": "6eb49a26",
   "metadata": {},
   "outputs": [],
   "source": [
    "# Let the max and min returns equal to:\n",
    "max_ret1 = Er.max()\n",
    "min_ret1 = Er.min()\n",
    "\n",
    "# Returns num evenly spaced samples, calculated over the interval (3,000)\n",
    "# you may want to reduce the number of steps to make this quicker\n",
    "returns = np.linspace(min_ret1, max_ret1,3000)\n",
    "# this empty dataframe will collect the output\n",
    "vol_opt = []\n",
    "# This function calculates the standard deviation just like the ones previously used.\n",
    "# You may use the already created function in this step\n",
    "def Stdev(Weights):\n",
    "    W = np.array(Weights)\n",
    "    Stdev_opt1 = np.sqrt(np.dot(W, np.dot(cov, W.T)))*np.sqrt(12)\n",
    "    return Stdev_opt1\n",
    "# This function calculates the returns as a function of weights\n",
    "def Rets(Weights):\n",
    "    W = np.array(Weights)\n",
    "    Ret = np.sum(Er * W)\n",
    "    return Ret\n",
    "\n",
    "for Ret in returns:\n",
    "    constraints = ({'type':'eq', 'fun':SumW},\n",
    "                   {'type':'eq', 'fun': lambda w0: Rets(w0) - Ret})\n",
    "    opt2 = minimize(Stdev, w0, method='SLSQP', bounds=bounds, constraints=constraints)\n",
    "    # append the output here\n",
    "    vol_opt.append(opt2['fun'])\n",
    "\n",
    "Stdev = np.array(vol_opt)\n",
    "Ret = np.array(returns)"
   ]
  },
  {
   "cell_type": "markdown",
   "id": "aab5ef46",
   "metadata": {},
   "source": [
    "The CAL:"
   ]
  },
  {
   "cell_type": "code",
   "execution_count": 39,
   "id": "9193f86f",
   "metadata": {},
   "outputs": [],
   "source": [
    "max_std = max(Stdev)\n",
    "min_std = min(Stdev)\n",
    "std_range = np.linspace(min_std, max_std, 100)\n",
    "\n",
    "for stdev in std_range:\n",
    "    Cal = r + ((Ret_s-r)/Std_s)*std_range"
   ]
  },
  {
   "cell_type": "markdown",
   "id": "3d27bd7e",
   "metadata": {},
   "source": [
    "Finally, the efficient frontier:"
   ]
  },
  {
   "cell_type": "code",
   "execution_count": 40,
   "id": "8253d221",
   "metadata": {},
   "outputs": [
    {
     "data": {
      "image/png": "[encoded data removed]",
      "text/plain": [
       "<Figure size 720x360 with 1 Axes>"
      ]
     },
     "metadata": {
      "needs_background": "light"
     },
     "output_type": "display_data"
    }
   ],
   "source": [
    "plt.plot(Stdev, Ret, Std_opt, Ret_opt, \"o\", Std_s, Ret_s, \"o\", std_range, Cal)\n",
    "plt.title('Efficient Frontier, Minimum Variance Portfolio, Optimal Portfolio, and CAL')\n",
    "plt.ylabel('Returns')\n",
    "plt.xlabel('Volatility')\n",
    "plt.show()"
   ]
  },
  {
   "cell_type": "markdown",
   "id": "e1d5f7cb",
   "metadata": {},
   "source": [
    "Let's assume that we have an equally weighted portfolio. How would we perform relative to the optimal (assume maximum Sharpe, i.e., the portfolio tangent to the CAL). At this point, you may want to use a benchmark (e.g., S&P 500, Russell 2000, MSCI EAFE, etc.)\n",
    "<hr>\n",
    "<h3> Return Attribution</h3>\n",
    "<br>\n",
    "For this exercise, let's look at the \n",
    "<a href=\"https://morningstardirect.morningstar.com/clientcomm/Morningstar-Total-Portfolio-Performance-Attribution-Methodology.pdf\">Morningstar® Total Portfolio Performance Attribution Methodology.</a> The analysis is based on the Brinson–Hood–Beebower (BHB) Model.\n",
    "<br>\n",
    "\n",
    "$$\n",
    "\\begin{aligned}\n",
    "& \\text { Table 1.1. Total Portfolio Performance Attribution }\\\\\n",
    "&\\begin{array}{cc}\n",
    "\\hline\n",
    "\\hline \\text{ Tactical Asset Allocation } & \\sum (w_{j}^P - w_{j}^B ) \\cdot R_{j}^B \\\\\n",
    "\\text{ Stock Selection } & \\sum w_{j}^B \\cdot (R_{j}^P - R_{j}^B) \\\\\n",
    "\\text{ Interation }  & \\sum (w_{j}^P - w_{j}^B ) \\cdot (R_{j}^P - R_{j}^B) \\\\ \\hline\n",
    "\\text{ Total Value Added }  & \\sum (w_{j}^P \\cdot R_{j}^P ) - (w_{j}^B \\cdot R_{j}^B) \\\\\n",
    "\\hline\n",
    "\\end{array}\n",
    "\\end{aligned}\n",
    "$$\n",
    "<br>\n",
    "<br>\n",
    "$$\n",
    "\\begin{aligned}\n",
    "& \\text { Where }\\\\\n",
    "&\\begin{array}{cc}\n",
    "\\hline w_{j}^P & \\text { The portfolio's weighting for group }j \\\\\n",
    "w_{j}^B &  \\text { The benchmark's weighting for group }j \\\\\n",
    "R_{j}^P  &  \\text { The portfolio's return for group }j \\\\\n",
    "R_{j}^B  &  \\text { The benchmark's return for group }j \\\\\n",
    "\\hline\n",
    "\\end{array}\n",
    "\\end{aligned}\n",
    "$$\n",
    "<br>\n",
    "<br>\n",
    "Consider the return attribution for our last month:"
   ]
  },
  {
   "cell_type": "code",
   "execution_count": 41,
   "id": "e00c8659",
   "metadata": {},
   "outputs": [
    {
     "name": "stdout",
     "output_type": "stream",
     "text": [
      "Portfolio Return: 6.53%\n",
      "Benchmark Return: -1.23%\n",
      "Outperformance: 7.76%\n"
     ]
    },
    {
     "data": {
      "text/html": [
       "<div>\n",
       "<style scoped>\n",
       "    .dataframe tbody tr th:only-of-type {\n",
       "        vertical-align: middle;\n",
       "    }\n",
       "\n",
       "    .dataframe tbody tr th {\n",
       "        vertical-align: top;\n",
       "    }\n",
       "\n",
       "    .dataframe thead th {\n",
       "        text-align: right;\n",
       "    }\n",
       "</style>\n",
       "<table border=\"1\" class=\"dataframe\">\n",
       "  <thead>\n",
       "    <tr style=\"text-align: right;\">\n",
       "      <th></th>\n",
       "      <th>Security/Sector</th>\n",
       "      <th>Portfolio Weight</th>\n",
       "      <th>Benchmark Weight</th>\n",
       "      <th>Returns</th>\n",
       "      <th>Tactical Allocation</th>\n",
       "      <th>Stock Selection</th>\n",
       "      <th>Interaction</th>\n",
       "      <th>Total Value Added</th>\n",
       "    </tr>\n",
       "  </thead>\n",
       "  <tbody>\n",
       "    <tr>\n",
       "      <th>0</th>\n",
       "      <td>AAPL</td>\n",
       "      <td>0.2</td>\n",
       "      <td>0.579953</td>\n",
       "      <td>-0.034702</td>\n",
       "      <td>0.013185</td>\n",
       "      <td>0.0</td>\n",
       "      <td>-0.0</td>\n",
       "      <td>0.013185</td>\n",
       "    </tr>\n",
       "    <tr>\n",
       "      <th>1</th>\n",
       "      <td>BA</td>\n",
       "      <td>0.2</td>\n",
       "      <td>0.0</td>\n",
       "      <td>0.224392</td>\n",
       "      <td>0.044878</td>\n",
       "      <td>0.0</td>\n",
       "      <td>0.0</td>\n",
       "      <td>0.044878</td>\n",
       "    </tr>\n",
       "    <tr>\n",
       "      <th>2</th>\n",
       "      <td>BAC</td>\n",
       "      <td>0.2</td>\n",
       "      <td>0.0</td>\n",
       "      <td>0.045031</td>\n",
       "      <td>0.009006</td>\n",
       "      <td>0.0</td>\n",
       "      <td>0.0</td>\n",
       "      <td>0.009006</td>\n",
       "    </tr>\n",
       "    <tr>\n",
       "      <th>3</th>\n",
       "      <td>CVS</td>\n",
       "      <td>0.2</td>\n",
       "      <td>0.0</td>\n",
       "      <td>0.072996</td>\n",
       "      <td>0.014599</td>\n",
       "      <td>0.0</td>\n",
       "      <td>0.0</td>\n",
       "      <td>0.014599</td>\n",
       "    </tr>\n",
       "    <tr>\n",
       "      <th>4</th>\n",
       "      <td>JNJ</td>\n",
       "      <td>0.2</td>\n",
       "      <td>0.420047</td>\n",
       "      <td>0.018622</td>\n",
       "      <td>-0.004098</td>\n",
       "      <td>0.0</td>\n",
       "      <td>-0.0</td>\n",
       "      <td>-0.004098</td>\n",
       "    </tr>\n",
       "    <tr>\n",
       "      <th>5</th>\n",
       "      <td>Portfolio</td>\n",
       "      <td>1.0</td>\n",
       "      <td>1.0</td>\n",
       "      <td>0.065268</td>\n",
       "      <td>0.077571</td>\n",
       "      <td>0.0</td>\n",
       "      <td>0.0</td>\n",
       "      <td>0.077571</td>\n",
       "    </tr>\n",
       "  </tbody>\n",
       "</table>\n",
       "</div>"
      ],
      "text/plain": [
       "  Security/Sector Portfolio Weight Benchmark Weight   Returns  \\\n",
       "0            AAPL              0.2         0.579953 -0.034702   \n",
       "1              BA              0.2              0.0  0.224392   \n",
       "2             BAC              0.2              0.0  0.045031   \n",
       "3             CVS              0.2              0.0  0.072996   \n",
       "4             JNJ              0.2         0.420047  0.018622   \n",
       "5       Portfolio              1.0              1.0  0.065268   \n",
       "\n",
       "  Tactical Allocation Stock Selection Interaction Total Value Added  \n",
       "0            0.013185             0.0        -0.0          0.013185  \n",
       "1            0.044878             0.0         0.0          0.044878  \n",
       "2            0.009006             0.0         0.0          0.009006  \n",
       "3            0.014599             0.0         0.0          0.014599  \n",
       "4           -0.004098             0.0        -0.0         -0.004098  \n",
       "5            0.077571             0.0         0.0          0.077571  "
      ]
     },
     "execution_count": 41,
     "metadata": {},
     "output_type": "execute_result"
    }
   ],
   "source": [
    "# The optimal portfolio weights:\n",
    "Opt_Weight = Weights['Weight']\n",
    "Sector = Weights['Security']\n",
    "# An equally weighted portfolio:\n",
    "Equal_Weight = pd.Series([1/len(df1.columns) for x in range(len(df1.columns))])\n",
    "# We could construct the following dataframe for our return attribution (RA):\n",
    "RA = [Sector, Equal_Weight, Opt_Weight]\n",
    "RA = pd.DataFrame(RA).T\n",
    "RA.columns = ['Security/Sector', 'Portfolio Weight', 'Benchmark Weight']\n",
    "# Last month's returns:\n",
    "# We can use the same returns since our \"benchmark\" holds the same securities.\n",
    "RA['Returns'] = df1[-2:-1:].values.T\n",
    "# Tactical Asset Allocation:\n",
    "RA['Tactical Allocation'] = (RA['Portfolio Weight'] - RA['Benchmark Weight']) * RA['Returns']\n",
    "# Tactical Asset Allocation:\n",
    "RA['Stock Selection'] = RA['Benchmark Weight'] * (RA['Returns'] - RA['Returns'])\n",
    "# Tactical Asset Allocation:\n",
    "RA['Interaction'] = (RA['Portfolio Weight'] - RA['Benchmark Weight']) * (RA['Returns'] - RA['Returns'])\n",
    "# Tactical Asset Allocation:\n",
    "RA['Total Value Added'] = (RA['Portfolio Weight'] * RA['Returns']) - (RA['Benchmark Weight']*RA['Returns'])\n",
    "# Portfolio Return:\n",
    "Port_Ret = np.sum(RA['Portfolio Weight']*RA['Returns'])\n",
    "# Benchmark Return:\n",
    "BMR = np.sum(RA['Benchmark Weight']*RA['Returns'])\n",
    "# Overview:\n",
    "RA.loc[len(RA.index)] = ['Portfolio', np.sum(RA['Portfolio Weight']), np.sum(RA['Benchmark Weight']),\n",
    "                         Port_Ret ,np.sum(RA['Tactical Allocation']), np.sum(RA['Stock Selection']),\n",
    "                         np.sum(RA['Interaction']), np.sum(RA['Total Value Added'])]\n",
    "\n",
    "print(f\"Portfolio Return: {round(Port_Ret*100,2)}%\")\n",
    "print(f\"Benchmark Return: {round(BMR*100,2)}%\")\n",
    "print(f\"Outperformance: {round(((Port_Ret - BMR)*100),2)}%\")\n",
    "\n",
    "RA"
   ]
  },
  {
   "cell_type": "markdown",
   "id": "107b7f36",
   "metadata": {},
   "source": [
    "Here we can see that our equally weighted portfolio performs better than the benchmark (the \"optimal portfolio\"). Since both the portfolio and benchmark hold the same stocks, the stock selection is zero (and so is the interection term). Apple underperformed as seen by negative returns. Since the benchmark holds more of that stock, their returns are lower. The other stocks (BA, BAC, and CVS) had a positive return during the month of November. The benchmark does not hold any of those stocks - thus, our equally weighted portfolio had a better performance by holding those stocks. Finally, JNJ had positive returns. Since the benchmark holds more of JNJ than our equally weighted portfolio, the benchmark outperformed due to this overweight relative to our portfolio. We can see that we had a 6.53% return in November, while the benchmark returned -1.23%. We outperformed the benchmark by 7.76% - all the outperformance came from our asset allocation.\n",
    "\n",
    "We could plot this using a waterfall chart:"
   ]
  },
  {
   "cell_type": "code",
   "execution_count": 42,
   "id": "a779b690",
   "metadata": {},
   "outputs": [
    {
     "data": {
      "image/png": "[encoded data removed]",
      "text/plain": [
       "<Figure size 720x360 with 1 Axes>"
      ]
     },
     "metadata": {
      "needs_background": "light"
     },
     "output_type": "display_data"
    }
   ],
   "source": [
    "# Here we are just plotting the total value added, but you could use subplots to plot all four.\n",
    "x1,y1=(RA['Security/Sector'][:-1:]).values,(RA['Total Value Added'][:-1:]).values\n",
    "# Import package waterfall_charts as waterfall \n",
    "plot = waterfall.plot(x1, y1, net_label='Total Value Added', \n",
    "                      x_lab = 'Sector/Security',formatting ='{:.3f}%')\n",
    "plot.title('Total Value Added - Total Portfolio Performance Attribution')\n",
    "plot.show()"
   ]
  },
  {
   "cell_type": "markdown",
   "id": "180b4e88",
   "metadata": {},
   "source": [
    "________________________________________________________________________________________________________________________\n",
    "###### Leonardo F. de Souza\n",
    "###### 2022"
   ]
  }
 ],
 "metadata": {
  "kernelspec": {
   "display_name": "Python 3 (ipykernel)",
   "language": "python",
   "name": "python3"
  },
  "language_info": {
   "codemirror_mode": {
    "name": "ipython",
    "version": 3
   },
   "file_extension": ".py",
   "mimetype": "text/x-python",
   "name": "python",
   "nbconvert_exporter": "python",
   "pygments_lexer": "ipython3",
   "version": "3.9.12"
  }
 },
 "nbformat": 4,
 "nbformat_minor": 5
}
